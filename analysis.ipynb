{
 "cells": [
  {
   "cell_type": "code",
   "execution_count": 1,
   "metadata": {},
   "outputs": [],
   "source": [
    "# file from https://github.com/BatchDrake/ASignInSpace/blob/master/Candidates/artifacts/data17square.txt\n",
    "with open('data17square.txt', 'r') as t:\n",
    "    data = t.read()"
   ]
  },
  {
   "cell_type": "code",
   "execution_count": 2,
   "metadata": {},
   "outputs": [
    {
     "data": {
      "text/plain": [
       "(-0.5, 255.5, 255.5, -0.5)"
      ]
     },
     "execution_count": 2,
     "metadata": {},
     "output_type": "execute_result"
    },
    {
     "data": {
      "image/png": "[encoded data removed]",
      "text/plain": [
       "<Figure size 1200x1200 with 1 Axes>"
      ]
     },
     "metadata": {},
     "output_type": "display_data"
    }
   ],
   "source": [
    "import matplotlib.pyplot as plt \n",
    "from PIL import Image\n",
    "im = Image.new(mode=\"L\", size=(256,256))\n",
    "for x in range(256):\n",
    "    for y in range(256):\n",
    "        d = data[x*256+y]\n",
    "        v = 0\n",
    "        if d == \"1\":\n",
    "            v = 255\n",
    "        im.putpixel((x,y), v)\n",
    "plt.figure(figsize=(12,12))\n",
    "plt.imshow(im, cmap='gray')\n",
    "plt.axis('off')\n",
    "plt.axis('image')\n"
   ]
  },
  {
   "cell_type": "code",
   "execution_count": 3,
   "metadata": {},
   "outputs": [
    {
     "data": {
      "text/plain": [
       "(-0.5, 255.5, 255.5, -0.5)"
      ]
     },
     "execution_count": 3,
     "metadata": {},
     "output_type": "execute_result"
    },
    {
     "data": {
      "image/png": "[encoded data removed]",
      "text/plain": [
       "<Figure size 1000x1000 with 1 Axes>"
      ]
     },
     "metadata": {},
     "output_type": "display_data"
    }
   ],
   "source": [
    "import matplotlib.pyplot as plt \n",
    "from PIL import Image\n",
    "# filter out the squares as a separate image\n",
    "im_squares = Image.new(mode=\"L\", size=(256,256))\n",
    "squares = list()\n",
    "for x in range(255):\n",
    "    for y in range(255):\n",
    "        d1 = data[(x)*256+(y)]\n",
    "        d2 = data[(x)*256+(y+1)]\n",
    "        d3 = data[(x+1)*256+(y)]\n",
    "        d4 = data[(x+1)*256+(y+1)]\n",
    "        v = 0\n",
    "        if d1 == \"1\" and d2 == \"1\" and d3 == \"1\" and d4 == \"1\":\n",
    "            v = 255\n",
    "            squares.append([x, y])\n",
    "        if im_squares.getpixel((x,y)) == 0:\n",
    "            im_squares.putpixel((x,y), v)\n",
    "        if im_squares.getpixel((x+1,y)) == 0:\n",
    "            im_squares.putpixel((x+1,y), v)\n",
    "        if im_squares.getpixel((x,y+1)) == 0:\n",
    "            im_squares.putpixel((x,y+1), v)\n",
    "        if im_squares.getpixel((x+1,y+1)) == 0:\n",
    "            im_squares.putpixel((x+1,y+1), v)\n",
    "plt.figure(figsize=(10,10))\n",
    "plt.imshow(im_squares, cmap='gray')\n",
    "plt.axis('off')\n",
    "plt.axis('image')\n"
   ]
  },
  {
   "cell_type": "code",
   "execution_count": 4,
   "metadata": {},
   "outputs": [],
   "source": [
    "# find the largest repeating pattern in the coordinates of the squares\n",
    "ps = [[x] for x in squares]\n",
    "\n",
    "def compute_distances_map(ps):\n",
    "    ret = []\n",
    "    ret_max = []\n",
    "    d = {}\n",
    "    threshold = 3 # at least three copies around\n",
    "    for constellations in ps:\n",
    "        cons_sorted = sorted(constellations , key=lambda k: [k[1], k[0]])\n",
    "        s = cons_sorted[0]\n",
    "        r = []\n",
    "        for p in cons_sorted:\n",
    "            r.append([p[0]-s[0], p[1]-s[1]])\n",
    "        key = str(r)\n",
    "        if key in d:\n",
    "            d[key] += 1\n",
    "        else:\n",
    "            d[key] = 1\n",
    "    max_count = max(d.values())\n",
    "    # we should threshold the counts and return only constellations that\n",
    "    # have at least N=2 members\n",
    "    for constellations in ps:\n",
    "        cons_sorted = sorted(constellations, key=lambda k: [k[1], k[0]])\n",
    "        s = cons_sorted[0]\n",
    "        r = []\n",
    "        for p in cons_sorted:\n",
    "            r.append([p[0]-s[0], p[1]-s[1]])\n",
    "        key = str(r)\n",
    "        if d[key] > threshold:\n",
    "            ret.append(cons_sorted)\n",
    "        if d[key] == max_count:\n",
    "            ret_max.append(cons_sorted)\n",
    "    d2 = {}\n",
    "    for dd in d:\n",
    "        if d[dd] > threshold:\n",
    "            d2[dd] = d[dd]\n",
    "    return { 'constellations': ret, 'counts': d2, 'max_constellations': ret_max }\n",
    "\n",
    "import itertools\n",
    "\n",
    "# in the first iteration constellations and ps are the same\n",
    "def merge_one_level(constellations, ps):\n",
    "    # everyone with everyone else in a map of differences as keys\n",
    "    ret = list()\n",
    "    for c1 in range(len(constellations)):\n",
    "        for c2 in range(len(ps)):\n",
    "            # merge the two but only take unique elements\n",
    "            comb = constellations[c1] + ps[c2]\n",
    "            comb.sort()\n",
    "            comb = list(comb for comb,_ in itertools.groupby(comb))\n",
    "            if len(comb) == len(constellations[c1]) + 1:\n",
    "                if comb not in ret:\n",
    "                    ret.append(comb)\n",
    "    return ret\n"
   ]
  },
  {
   "cell_type": "code",
   "execution_count": 5,
   "metadata": {},
   "outputs": [
    {
     "name": "stdout",
     "output_type": "stream",
     "text": [
      "182\n",
      "{'constellations': [[[40, 65], [48, 69]], [[40, 65], [49, 76]], [[52, 53], [40, 65]], [[52, 61], [40, 65]], [[59, 64], [40, 65]], [[40, 65], [62, 155]], [[66, 59], [40, 65]], [[126, 45], [40, 65]], [[40, 65], [142, 199]], [[40, 65], [174, 101]], [[48, 69], [49, 76]], [[52, 53], [48, 69]], [[52, 61], [48, 69]], [[59, 64], [48, 69]], [[66, 59], [48, 69]], [[48, 69], [70, 159]], [[134, 49], [48, 69]], [[48, 69], [150, 203]], [[48, 69], [182, 105]], [[52, 53], [49, 76]], [[52, 61], [49, 76]], [[59, 64], [49, 76]], [[66, 59], [49, 76]], [[49, 76], [71, 166]], [[135, 56], [49, 76]], [[49, 76], [151, 210]], [[49, 76], [183, 112]], [[52, 53], [52, 61]], [[52, 53], [59, 64]], [[52, 53], [66, 59]], [[52, 53], [74, 143]], [[138, 33], [52, 53]], [[52, 53], [154, 187]], [[52, 53], [186, 89]], [[52, 61], [59, 64]], [[66, 59], [52, 61]], [[52, 61], [74, 151]], [[138, 41], [52, 61]], [[52, 61], [154, 195]], [[52, 61], [186, 97]], [[66, 59], [59, 64]], [[59, 64], [81, 154]], [[145, 44], [59, 64]], [[59, 64], [161, 198]], [[59, 64], [193, 100]], [[62, 155], [70, 159]], [[62, 155], [71, 166]], [[74, 143], [62, 155]], [[74, 151], [62, 155]], [[81, 154], [62, 155]], [[88, 149], [62, 155]], [[126, 45], [62, 155]], [[62, 155], [142, 199]], [[174, 101], [62, 155]], [[66, 59], [88, 149]], [[152, 39], [66, 59]], [[66, 59], [200, 95]], [[70, 159], [71, 166]], [[74, 143], [70, 159]], [[74, 151], [70, 159]], [[81, 154], [70, 159]], [[88, 149], [70, 159]], [[134, 49], [70, 159]], [[70, 159], [150, 203]], [[182, 105], [70, 159]], [[74, 143], [71, 166]], [[74, 151], [71, 166]], [[81, 154], [71, 166]], [[88, 149], [71, 166]], [[135, 56], [71, 166]], [[71, 166], [151, 210]], [[183, 112], [71, 166]], [[74, 143], [74, 151]], [[74, 143], [81, 154]], [[74, 143], [88, 149]], [[138, 33], [74, 143]], [[74, 143], [154, 187]], [[186, 89], [74, 143]], [[74, 151], [81, 154]], [[88, 149], [74, 151]], [[138, 41], [74, 151]], [[74, 151], [154, 195]], [[186, 97], [74, 151]], [[88, 149], [81, 154]], [[81, 154], [94, 155]], [[145, 44], [81, 154]], [[81, 154], [161, 198]], [[193, 100], [81, 154]], [[88, 149], [94, 155]], [[152, 39], [88, 149]], [[200, 95], [88, 149]], [[158, 45], [94, 155]], [[206, 101], [94, 155]], [[126, 45], [134, 49]], [[126, 45], [135, 56]], [[138, 33], [126, 45]], [[138, 41], [126, 45]], [[126, 45], [142, 199]], [[145, 44], [126, 45]], [[152, 39], [126, 45]], [[126, 45], [174, 101]], [[134, 49], [135, 56]], [[138, 33], [134, 49]], [[138, 41], [134, 49]], [[145, 44], [134, 49]], [[134, 49], [150, 203]], [[152, 39], [134, 49]], [[134, 49], [182, 105]], [[138, 33], [135, 56]], [[138, 41], [135, 56]], [[145, 44], [135, 56]], [[135, 56], [151, 210]], [[152, 39], [135, 56]], [[135, 56], [183, 112]], [[138, 33], [138, 41]], [[138, 33], [145, 44]], [[138, 33], [152, 39]], [[138, 33], [154, 187]], [[138, 33], [186, 89]], [[138, 41], [145, 44]], [[152, 39], [138, 41]], [[138, 41], [154, 195]], [[138, 41], [186, 97]], [[142, 199], [150, 203]], [[142, 199], [151, 210]], [[154, 187], [142, 199]], [[154, 195], [142, 199]], [[161, 198], [142, 199]], [[174, 101], [142, 199]], [[152, 39], [145, 44]], [[145, 44], [158, 45]], [[145, 44], [161, 198]], [[145, 44], [193, 100]], [[150, 203], [151, 210]], [[154, 187], [150, 203]], [[154, 195], [150, 203]], [[150, 203], [157, 214]], [[161, 198], [150, 203]], [[182, 105], [150, 203]], [[154, 187], [151, 210]], [[154, 195], [151, 210]], [[161, 198], [151, 210]], [[183, 112], [151, 210]], [[152, 39], [158, 45]], [[152, 39], [165, 40]], [[152, 39], [200, 95]], [[154, 187], [154, 195]], [[154, 187], [161, 198]], [[186, 89], [154, 187]], [[154, 195], [161, 198]], [[154, 195], [161, 206]], [[186, 97], [154, 195]], [[161, 198], [157, 214]], [[161, 206], [157, 214]], [[165, 40], [158, 45]], [[158, 45], [206, 101]], [[161, 198], [161, 206]], [[193, 100], [161, 198]], [[161, 206], [167, 212]], [[174, 101], [182, 105]], [[174, 101], [183, 112]], [[186, 89], [174, 101]], [[186, 97], [174, 101]], [[193, 100], [174, 101]], [[200, 95], [174, 101]], [[182, 105], [183, 112]], [[186, 89], [182, 105]], [[186, 97], [182, 105]], [[193, 100], [182, 105]], [[200, 95], [182, 105]], [[186, 89], [183, 112]], [[186, 97], [183, 112]], [[193, 100], [183, 112]], [[200, 95], [183, 112]], [[186, 89], [186, 97]], [[186, 89], [193, 100]], [[186, 89], [200, 95]], [[186, 97], [193, 100]], [[200, 95], [186, 97]], [[200, 95], [193, 100]], [[193, 100], [206, 101]], [[200, 95], [206, 101]]], 'counts': {'[[0, 0], [8, 4]]': 5, '[[0, 0], [9, 11]]': 5, '[[0, 0], [-12, 12]]': 5, '[[0, 0], [-12, 4]]': 5, '[[0, 0], [-19, 1]]': 5, '[[0, 0], [22, 90]]': 7, '[[0, 0], [-26, 6]]': 4, '[[0, 0], [-86, 20]]': 7, '[[0, 0], [102, 134]]': 6, '[[0, 0], [134, 36]]': 7, '[[0, 0], [1, 7]]': 5, '[[0, 0], [-4, 16]]': 6, '[[0, 0], [-4, 8]]': 6, '[[0, 0], [-11, 5]]': 5, '[[0, 0], [-18, 10]]': 4, '[[0, 0], [-3, 23]]': 5, '[[0, 0], [-3, 15]]': 5, '[[0, 0], [-10, 12]]': 5, '[[0, 0], [-17, 17]]': 4, '[[0, 0], [0, 8]]': 6, '[[0, 0], [7, 11]]': 7, '[[0, 0], [14, 6]]': 4, '[[0, 0], [7, 3]]': 5, '[[0, 0], [-14, 2]]': 4, '[[0, 0], [-7, 5]]': 5, '[[0, 0], [-64, 110]]': 8, '[[0, 0], [80, 44]]': 6, '[[0, 0], [-112, 54]]': 8, '[[0, 0], [13, 1]]': 4, '[[0, 0], [6, 6]]': 4, '[[0, 0], [16, 154]]': 6, '[[0, 0], [48, 56]]': 8, '[[0, 0], [-32, 98]]': 6}, 'max_constellations': [[[126, 45], [62, 155]], [[174, 101], [62, 155]], [[134, 49], [70, 159]], [[182, 105], [70, 159]], [[135, 56], [71, 166]], [[183, 112], [71, 166]], [[138, 33], [74, 143]], [[186, 89], [74, 143]], [[138, 41], [74, 151]], [[186, 97], [74, 151]], [[145, 44], [81, 154]], [[193, 100], [81, 154]], [[152, 39], [88, 149]], [[200, 95], [88, 149]], [[158, 45], [94, 155]], [[206, 101], [94, 155]], [[126, 45], [174, 101]], [[134, 49], [182, 105]], [[135, 56], [183, 112]], [[138, 33], [186, 89]], [[138, 41], [186, 97]], [[145, 44], [193, 100]], [[152, 39], [200, 95]], [[158, 45], [206, 101]]]}\n"
     ]
    }
   ],
   "source": [
    "ps2 = merge_one_level(ps,ps)\n",
    "level2 = compute_distances_map(ps2)\n",
    "print(len(level2['constellations']))\n",
    "print(level2)"
   ]
  },
  {
   "cell_type": "code",
   "execution_count": 6,
   "metadata": {},
   "outputs": [
    {
     "name": "stdout",
     "output_type": "stream",
     "text": [
      "226\n",
      "{'constellations': [[[40, 65], [48, 69], [49, 76]], [[52, 53], [40, 65], [48, 69]], [[52, 61], [40, 65], [48, 69]], [[59, 64], [40, 65], [48, 69]], [[66, 59], [40, 65], [48, 69]], [[52, 53], [40, 65], [49, 76]], [[52, 61], [40, 65], [49, 76]], [[59, 64], [40, 65], [49, 76]], [[66, 59], [40, 65], [49, 76]], [[52, 53], [52, 61], [40, 65]], [[52, 53], [59, 64], [40, 65]], [[52, 53], [66, 59], [40, 65]], [[52, 61], [59, 64], [40, 65]], [[66, 59], [52, 61], [40, 65]], [[66, 59], [59, 64], [40, 65]], [[126, 45], [40, 65], [62, 155]], [[40, 65], [62, 155], [142, 199]], [[40, 65], [174, 101], [62, 155]], [[126, 45], [40, 65], [142, 199]], [[126, 45], [40, 65], [174, 101]], [[40, 65], [174, 101], [142, 199]], [[52, 53], [48, 69], [49, 76]], [[52, 61], [48, 69], [49, 76]], [[59, 64], [48, 69], [49, 76]], [[66, 59], [48, 69], [49, 76]], [[52, 53], [52, 61], [48, 69]], [[52, 53], [59, 64], [48, 69]], [[52, 53], [66, 59], [48, 69]], [[52, 61], [59, 64], [48, 69]], [[66, 59], [52, 61], [48, 69]], [[66, 59], [59, 64], [48, 69]], [[134, 49], [48, 69], [70, 159]], [[48, 69], [70, 159], [150, 203]], [[48, 69], [182, 105], [70, 159]], [[134, 49], [48, 69], [150, 203]], [[134, 49], [48, 69], [182, 105]], [[48, 69], [182, 105], [150, 203]], [[52, 53], [52, 61], [49, 76]], [[52, 53], [59, 64], [49, 76]], [[52, 53], [66, 59], [49, 76]], [[52, 61], [59, 64], [49, 76]], [[66, 59], [52, 61], [49, 76]], [[66, 59], [59, 64], [49, 76]], [[135, 56], [49, 76], [71, 166]], [[49, 76], [71, 166], [151, 210]], [[49, 76], [183, 112], [71, 166]], [[135, 56], [49, 76], [151, 210]], [[135, 56], [49, 76], [183, 112]], [[49, 76], [183, 112], [151, 210]], [[52, 53], [52, 61], [59, 64]], [[52, 53], [66, 59], [52, 61]], [[52, 53], [66, 59], [59, 64]], [[138, 33], [52, 53], [74, 143]], [[52, 53], [74, 143], [154, 187]], [[52, 53], [186, 89], [74, 143]], [[138, 33], [52, 53], [154, 187]], [[138, 33], [52, 53], [186, 89]], [[52, 53], [186, 89], [154, 187]], [[66, 59], [52, 61], [59, 64]], [[138, 41], [52, 61], [74, 151]], [[52, 61], [74, 151], [154, 195]], [[52, 61], [186, 97], [74, 151]], [[138, 41], [52, 61], [154, 195]], [[138, 41], [52, 61], [186, 97]], [[52, 61], [186, 97], [154, 195]], [[145, 44], [59, 64], [81, 154]], [[59, 64], [81, 154], [161, 198]], [[59, 64], [193, 100], [81, 154]], [[145, 44], [59, 64], [161, 198]], [[145, 44], [59, 64], [193, 100]], [[59, 64], [193, 100], [161, 198]], [[62, 155], [70, 159], [71, 166]], [[74, 143], [62, 155], [70, 159]], [[74, 151], [62, 155], [70, 159]], [[81, 154], [62, 155], [70, 159]], [[88, 149], [62, 155], [70, 159]], [[74, 143], [62, 155], [71, 166]], [[74, 151], [62, 155], [71, 166]], [[81, 154], [62, 155], [71, 166]], [[88, 149], [62, 155], [71, 166]], [[74, 143], [74, 151], [62, 155]], [[74, 143], [81, 154], [62, 155]], [[74, 143], [88, 149], [62, 155]], [[74, 151], [81, 154], [62, 155]], [[88, 149], [74, 151], [62, 155]], [[88, 149], [81, 154], [62, 155]], [[126, 45], [62, 155], [142, 199]], [[126, 45], [174, 101], [62, 155]], [[174, 101], [62, 155], [142, 199]], [[152, 39], [66, 59], [88, 149]], [[66, 59], [200, 95], [88, 149]], [[152, 39], [66, 59], [200, 95]], [[74, 143], [70, 159], [71, 166]], [[74, 151], [70, 159], [71, 166]], [[81, 154], [70, 159], [71, 166]], [[88, 149], [70, 159], [71, 166]], [[74, 143], [74, 151], [70, 159]], [[74, 143], [81, 154], [70, 159]], [[74, 143], [88, 149], [70, 159]], [[74, 151], [81, 154], [70, 159]], [[88, 149], [74, 151], [70, 159]], [[88, 149], [81, 154], [70, 159]], [[134, 49], [70, 159], [150, 203]], [[134, 49], [182, 105], [70, 159]], [[182, 105], [70, 159], [150, 203]], [[74, 143], [74, 151], [71, 166]], [[74, 143], [81, 154], [71, 166]], [[74, 143], [88, 149], [71, 166]], [[74, 151], [81, 154], [71, 166]], [[88, 149], [74, 151], [71, 166]], [[88, 149], [81, 154], [71, 166]], [[135, 56], [71, 166], [151, 210]], [[135, 56], [183, 112], [71, 166]], [[183, 112], [71, 166], [151, 210]], [[74, 143], [74, 151], [81, 154]], [[74, 143], [88, 149], [74, 151]], [[74, 143], [88, 149], [81, 154]], [[138, 33], [74, 143], [154, 187]], [[138, 33], [186, 89], [74, 143]], [[186, 89], [74, 143], [154, 187]], [[88, 149], [74, 151], [81, 154]], [[138, 41], [74, 151], [154, 195]], [[138, 41], [186, 97], [74, 151]], [[186, 97], [74, 151], [154, 195]], [[145, 44], [81, 154], [161, 198]], [[145, 44], [193, 100], [81, 154]], [[193, 100], [81, 154], [161, 198]], [[152, 39], [200, 95], [88, 149]], [[158, 45], [206, 101], [94, 155]], [[126, 45], [134, 49], [135, 56]], [[138, 33], [126, 45], [134, 49]], [[138, 41], [126, 45], [134, 49]], [[145, 44], [126, 45], [134, 49]], [[152, 39], [126, 45], [134, 49]], [[138, 33], [126, 45], [135, 56]], [[138, 41], [126, 45], [135, 56]], [[145, 44], [126, 45], [135, 56]], [[152, 39], [126, 45], [135, 56]], [[138, 33], [138, 41], [126, 45]], [[138, 33], [145, 44], [126, 45]], [[138, 33], [152, 39], [126, 45]], [[138, 41], [145, 44], [126, 45]], [[152, 39], [138, 41], [126, 45]], [[126, 45], [174, 101], [142, 199]], [[152, 39], [145, 44], [126, 45]], [[138, 33], [134, 49], [135, 56]], [[138, 41], [134, 49], [135, 56]], [[145, 44], [134, 49], [135, 56]], [[152, 39], [134, 49], [135, 56]], [[138, 33], [138, 41], [134, 49]], [[138, 33], [145, 44], [134, 49]], [[138, 33], [152, 39], [134, 49]], [[138, 41], [145, 44], [134, 49]], [[152, 39], [138, 41], [134, 49]], [[152, 39], [145, 44], [134, 49]], [[134, 49], [182, 105], [150, 203]], [[138, 33], [138, 41], [135, 56]], [[138, 33], [145, 44], [135, 56]], [[138, 33], [152, 39], [135, 56]], [[138, 41], [145, 44], [135, 56]], [[152, 39], [138, 41], [135, 56]], [[152, 39], [145, 44], [135, 56]], [[135, 56], [183, 112], [151, 210]], [[138, 33], [138, 41], [145, 44]], [[138, 33], [152, 39], [138, 41]], [[138, 33], [152, 39], [145, 44]], [[138, 33], [186, 89], [154, 187]], [[152, 39], [138, 41], [145, 44]], [[138, 41], [186, 97], [154, 195]], [[142, 199], [150, 203], [151, 210]], [[154, 187], [142, 199], [150, 203]], [[154, 195], [142, 199], [150, 203]], [[161, 198], [142, 199], [150, 203]], [[154, 187], [142, 199], [151, 210]], [[154, 195], [142, 199], [151, 210]], [[161, 198], [142, 199], [151, 210]], [[154, 187], [154, 195], [142, 199]], [[154, 187], [161, 198], [142, 199]], [[154, 195], [161, 198], [142, 199]], [[145, 44], [193, 100], [161, 198]], [[154, 187], [150, 203], [151, 210]], [[154, 195], [150, 203], [151, 210]], [[161, 198], [150, 203], [151, 210]], [[154, 187], [154, 195], [150, 203]], [[154, 187], [161, 198], [150, 203]], [[154, 195], [161, 198], [150, 203]], [[154, 187], [154, 195], [151, 210]], [[154, 187], [161, 198], [151, 210]], [[154, 195], [161, 198], [151, 210]], [[154, 187], [154, 195], [161, 198]], [[161, 198], [161, 206], [157, 214]], [[174, 101], [182, 105], [183, 112]], [[186, 89], [174, 101], [182, 105]], [[186, 97], [174, 101], [182, 105]], [[193, 100], [174, 101], [182, 105]], [[200, 95], [174, 101], [182, 105]], [[186, 89], [174, 101], [183, 112]], [[186, 97], [174, 101], [183, 112]], [[193, 100], [174, 101], [183, 112]], [[200, 95], [174, 101], [183, 112]], [[186, 89], [186, 97], [174, 101]], [[186, 89], [193, 100], [174, 101]], [[186, 89], [200, 95], [174, 101]], [[186, 97], [193, 100], [174, 101]], [[200, 95], [186, 97], [174, 101]], [[200, 95], [193, 100], [174, 101]], [[186, 89], [182, 105], [183, 112]], [[186, 97], [182, 105], [183, 112]], [[193, 100], [182, 105], [183, 112]], [[200, 95], [182, 105], [183, 112]], [[186, 89], [186, 97], [182, 105]], [[186, 89], [193, 100], [182, 105]], [[186, 89], [200, 95], [182, 105]], [[186, 97], [193, 100], [182, 105]], [[200, 95], [186, 97], [182, 105]], [[200, 95], [193, 100], [182, 105]], [[186, 89], [186, 97], [183, 112]], [[186, 89], [193, 100], [183, 112]], [[186, 89], [200, 95], [183, 112]], [[186, 97], [193, 100], [183, 112]], [[200, 95], [186, 97], [183, 112]], [[200, 95], [193, 100], [183, 112]], [[186, 89], [186, 97], [193, 100]], [[186, 89], [200, 95], [186, 97]], [[186, 89], [200, 95], [193, 100]], [[200, 95], [186, 97], [193, 100]]], 'counts': {'[[0, 0], [8, 4], [9, 11]]': 5, '[[0, 0], [-12, 12], [-4, 16]]': 5, '[[0, 0], [-12, 4], [-4, 8]]': 5, '[[0, 0], [-19, 1], [-11, 5]]': 5, '[[0, 0], [-26, 6], [-18, 10]]': 4, '[[0, 0], [-12, 12], [-3, 23]]': 5, '[[0, 0], [-12, 4], [-3, 15]]': 5, '[[0, 0], [-19, 1], [-10, 12]]': 5, '[[0, 0], [-26, 6], [-17, 17]]': 4, '[[0, 0], [0, 8], [-12, 12]]': 5, '[[0, 0], [7, 11], [-12, 12]]': 5, '[[0, 0], [14, 6], [-12, 12]]': 4, '[[0, 0], [7, 3], [-12, 4]]': 5, '[[0, 0], [-14, 2], [-26, 6]]': 4, '[[0, 0], [-7, 5], [-26, 6]]': 4, '[[0, 0], [-86, 20], [-64, 110]]': 7, '[[0, 0], [22, 90], [102, 134]]': 6, '[[0, 0], [134, 36], [22, 90]]': 7, '[[0, 0], [-86, 20], [16, 154]]': 6, '[[0, 0], [-86, 20], [48, 56]]': 7, '[[0, 0], [134, 36], [102, 134]]': 6, '[[0, 0], [-4, 16], [-3, 23]]': 5, '[[0, 0], [-4, 8], [-3, 15]]': 5, '[[0, 0], [-11, 5], [-10, 12]]': 5, '[[0, 0], [-18, 10], [-17, 17]]': 4, '[[0, 0], [0, 8], [-4, 16]]': 6, '[[0, 0], [7, 11], [-4, 16]]': 5, '[[0, 0], [14, 6], [-4, 16]]': 4, '[[0, 0], [7, 3], [-4, 8]]': 5, '[[0, 0], [-14, 2], [-18, 10]]': 4, '[[0, 0], [-7, 5], [-18, 10]]': 4, '[[0, 0], [0, 8], [-3, 23]]': 5, '[[0, 0], [7, 11], [-3, 23]]': 5, '[[0, 0], [14, 6], [-3, 23]]': 4, '[[0, 0], [7, 3], [-3, 15]]': 5, '[[0, 0], [-14, 2], [-17, 17]]': 4, '[[0, 0], [-7, 5], [-17, 17]]': 4, '[[0, 0], [0, 8], [7, 11]]': 5, '[[0, 0], [14, 6], [0, 8]]': 4, '[[0, 0], [14, 6], [7, 11]]': 4, '[[0, 0], [-14, 2], [-7, 5]]': 4, '[[0, 0], [-64, 110], [16, 154]]': 6, '[[0, 0], [48, 56], [-64, 110]]': 8, '[[0, 0], [-112, 54], [-32, 98]]': 6, '[[0, 0], [48, 56], [16, 154]]': 6}, 'max_constellations': [[[126, 45], [174, 101], [62, 155]], [[134, 49], [182, 105], [70, 159]], [[135, 56], [183, 112], [71, 166]], [[138, 33], [186, 89], [74, 143]], [[138, 41], [186, 97], [74, 151]], [[145, 44], [193, 100], [81, 154]], [[152, 39], [200, 95], [88, 149]], [[158, 45], [206, 101], [94, 155]]]}\n"
     ]
    }
   ],
   "source": [
    "ps3 = merge_one_level(level2['constellations'],ps)\n",
    "level3 = compute_distances_map(ps3)\n",
    "print(len(level3['constellations']))\n",
    "print(level3)"
   ]
  },
  {
   "cell_type": "code",
   "execution_count": 7,
   "metadata": {},
   "outputs": [
    {
     "name": "stdout",
     "output_type": "stream",
     "text": [
      "186\n"
     ]
    }
   ],
   "source": [
    "ps4 = merge_one_level(level3['constellations'],ps)\n",
    "level4 = compute_distances_map(ps4)\n",
    "print(len(level4['constellations']))"
   ]
  },
  {
   "cell_type": "code",
   "execution_count": 8,
   "metadata": {},
   "outputs": [
    {
     "name": "stdout",
     "output_type": "stream",
     "text": [
      "96\n"
     ]
    }
   ],
   "source": [
    "ps5 = merge_one_level(level4['constellations'],ps)\n",
    "level5 = compute_distances_map(ps5)\n",
    "print(len(level5['constellations']))"
   ]
  },
  {
   "cell_type": "code",
   "execution_count": 9,
   "metadata": {},
   "outputs": [
    {
     "name": "stdout",
     "output_type": "stream",
     "text": [
      "29\n"
     ]
    }
   ],
   "source": [
    "ps6 = merge_one_level(level5['constellations'],ps)\n",
    "level6 = compute_distances_map(ps6)\n",
    "print(len(level6['constellations']))"
   ]
  },
  {
   "cell_type": "code",
   "execution_count": 10,
   "metadata": {},
   "outputs": [
    {
     "name": "stdout",
     "output_type": "stream",
     "text": [
      "4\n"
     ]
    }
   ],
   "source": [
    "ps7 = merge_one_level(level6['constellations'],ps)\n",
    "level7 = compute_distances_map(ps7)\n",
    "print(len(level7['constellations']))"
   ]
  },
  {
   "cell_type": "code",
   "execution_count": 11,
   "metadata": {},
   "outputs": [
    {
     "name": "stdout",
     "output_type": "stream",
     "text": [
      "0\n"
     ]
    }
   ],
   "source": [
    "ps8 = merge_one_level(level7['constellations'],ps)\n",
    "level8 = compute_distances_map(ps8)\n",
    "print(len(level8['constellations']))"
   ]
  },
  {
   "cell_type": "code",
   "execution_count": 12,
   "metadata": {},
   "outputs": [],
   "source": [
    "import matplotlib.pyplot as plt \n",
    "from PIL import Image\n",
    "import numpy as np\n",
    "from matplotlib.colors import LinearSegmentedColormap\n",
    "\n",
    "# create our own version of a colormap (white as second pixel, black as first)\n",
    "cmap = plt.colormaps[\"tab20\"]\n",
    "colors = cmap(np.arange(cmap.N))\n",
    "colors[0] = np.array([0, 0, 0, 1])\n",
    "colors[1] = np.array([1, 1, 1, 1])\n",
    "my_cmap = LinearSegmentedColormap.from_list(\"my_cmap\", colors, cmap.N)\n",
    "\n",
    "def plot_constellations(constellations, ps):\n",
    "    im = Image.new(mode=\"L\", size=(256,256))\n",
    "    # plot all points\n",
    "    for pp in ps:\n",
    "        for p in pp:\n",
    "            p1,p2 = p\n",
    "            im.putpixel((p1,p2), 1)\n",
    "            im.putpixel((p1+1,p2), 1)\n",
    "            im.putpixel((p1,p2+1), 1)\n",
    "            im.putpixel((p1+1,p2+1), 1)\n",
    "    # add the once that repeat the most\n",
    "    c = 2\n",
    "    for pp in constellations:\n",
    "        for p in pp:\n",
    "            p1,p2 = p\n",
    "            im.putpixel((p1,p2), c)\n",
    "            im.putpixel((p1+1,p2), c)\n",
    "            im.putpixel((p1,p2+1), c)\n",
    "            im.putpixel((p1+1,p2+1), c)\n",
    "        c += 1\n",
    "\n",
    "    plt.figure(figsize=(15,15))\n",
    "    plt.imshow(im, cmap=my_cmap, clim=[0, 20])\n",
    "    plt.axis('off')\n",
    "    plt.axis('image')\n"
   ]
  },
  {
   "cell_type": "markdown",
   "metadata": {},
   "source": [
    "Plot the largest repeated pattern of 7 large squares. There are 4 of those."
   ]
  },
  {
   "cell_type": "code",
   "execution_count": 13,
   "metadata": {},
   "outputs": [
    {
     "data": {
      "image/png": "[encoded data removed]",
      "text/plain": [
       "<Figure size 1500x1500 with 1 Axes>"
      ]
     },
     "metadata": {},
     "output_type": "display_data"
    }
   ],
   "source": [
    "plot_constellations(level7['max_constellations'], ps)"
   ]
  },
  {
   "cell_type": "markdown",
   "metadata": {},
   "source": [
    "Plot the largest repeating pattern of 6 squares. There are 5 of those."
   ]
  },
  {
   "cell_type": "code",
   "execution_count": 14,
   "metadata": {},
   "outputs": [
    {
     "data": {
      "image/png": "[encoded data removed]",
      "text/plain": [
       "<Figure size 1500x1500 with 1 Axes>"
      ]
     },
     "metadata": {},
     "output_type": "display_data"
    }
   ],
   "source": [
    "plot_constellations(level6['max_constellations'], ps)"
   ]
  },
  {
   "cell_type": "code",
   "execution_count": 15,
   "metadata": {},
   "outputs": [
    {
     "data": {
      "image/png": "[encoded data removed]",
      "text/plain": [
       "<Figure size 1500x1500 with 1 Axes>"
      ]
     },
     "metadata": {},
     "output_type": "display_data"
    }
   ],
   "source": [
    "plot_constellations(level5['max_constellations'], ps)"
   ]
  },
  {
   "cell_type": "markdown",
   "metadata": {},
   "source": [
    "# Idea: If the 5 different groups of dots relate to views in space\n",
    "\n",
    "We are missing a third dimension. We might get it back if we assign a z-coordinate to each point and rotate them in space to that we get a fit of the 5 groups of dots onto each other. The missing dots might be the points that are hidden by other points. "
   ]
  },
  {
   "cell_type": "code",
   "execution_count": null,
   "metadata": {},
   "outputs": [],
   "source": []
  }
 ],
 "metadata": {
  "kernelspec": {
   "display_name": "tf",
   "language": "python",
   "name": "python3"
  },
  "language_info": {
   "codemirror_mode": {
    "name": "ipython",
    "version": 3
   },
   "file_extension": ".py",
   "mimetype": "text/x-python",
   "name": "python",
   "nbconvert_exporter": "python",
   "pygments_lexer": "ipython3",
   "version": "3.10.11"
  },
  "orig_nbformat": 4
 },
 "nbformat": 4,
 "nbformat_minor": 2
}
